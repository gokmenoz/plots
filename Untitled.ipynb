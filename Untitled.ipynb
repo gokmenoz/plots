{
 "cells": [
  {
   "cell_type": "code",
   "execution_count": 1,
   "metadata": {},
   "outputs": [
    {
     "data": {
      "text/plain": [
       "'C:\\\\Users\\\\SUUSER'"
      ]
     },
     "execution_count": 1,
     "metadata": {},
     "output_type": "execute_result"
    }
   ],
   "source": [
    "pwd"
   ]
  },
  {
   "cell_type": "code",
   "execution_count": 2,
   "metadata": {},
   "outputs": [
    {
     "name": "stdout",
     "output_type": "stream",
     "text": [
      "C:\\Program Files (x86)\\Python36-32\n"
     ]
    }
   ],
   "source": [
    "cd C:\\\\Program Files (x86)\\Python36-32\n"
   ]
  },
  {
   "cell_type": "code",
   "execution_count": 3,
   "metadata": {},
   "outputs": [],
   "source": [
    "import pandas as pd\n",
    "import os\n",
    "\n",
    "df=pd.read_csv('country_iso_code/STEAM_country.csv')\n",
    "country_path='country_clean/raw/'\n",
    "\n",
    "cont=[]\n",
    "contfull=[]\n",
    "for con in os.listdir(country_path):\n",
    "    if con !='.DS_Store':\n",
    "        cont.append(con[:2])\n",
    "        name=df[\"official_name_en\"].loc[df[\"ISO3166-1-Alpha-2\"].str.contains(con[:2].upper())==True]\n",
    "        contfull.extend(name)\n",
    "\n",
    "populs=[]\n",
    "temp=pd.read_csv(\"country.csv\")\n",
    "for i in range(len(cont)):\n",
    "    populs.extend(temp[\"Population\"].loc[temp[\"Country Name\"]==contfull[i]])\n",
    "        \n",
    "ppps=[]\n",
    "temp=pd.read_csv(\"ppp.csv\")\n",
    "for i in range(len(cont)):\n",
    "    ppps.extend(temp[\"PPP\"].loc[temp[\"Country Name\"]==contfull[i]].astype(float))\n",
    "    \n",
    "popul=dict(zip(cont,populs))\n",
    "ppp=dict(zip(cont,ppps))\n",
    "iso3=[]\n",
    "sales=[]\n",
    "sales_cs=[]\n",
    "sales_pubg=[]\n",
    "sales_l4d=[]\n",
    "sales_cod=[]\n",
    "sales_fm=[]\n",
    "sales_gta=[]\n",
    "prices_cs=[]\n",
    "prices_pubg=[]\n",
    "prices_l4d=[]\n",
    "prices_cod=[]\n",
    "prices_fm=[]\n",
    "prices_gta=[]\n",
    "for country in cont:\n",
    "    iso3.extend(df['ISO3166-1-Alpha-3'].loc[df[\"ISO3166-1-Alpha-2\"].str.lower()==country])\n",
    "    sales_year_cs=0\n",
    "    sales_year_pubg=0\n",
    "    sales_year_l4d=0\n",
    "    sales_year_cod=0\n",
    "    sales_year_fm=0\n",
    "    sales_year_gta=0\n",
    "    frame=pd.read_csv(\"country_clean/country_appid/\"+country+\".csv\")\n",
    "    sales_year_cs=frame[\"sales_q\"].loc[frame[\"name\"]==\"Counter-Strike: Global Offensive\"]\n",
    "    sales_year_pubg=frame[\"sales_q\"].loc[frame[\"name\"]==\"PLAYERUNKNOWN'S BATTLEGROUNDS\"]\n",
    "    sales_year_l4d=frame[\"sales_q\"].loc[frame[\"name\"]==\"Left 4 Dead 2\"]\n",
    "    sales_year_cod=frame[\"sales_q\"].loc[frame[\"name\"]==\"Call of Duty: Modern Warfare 2\"]\n",
    "    sales_year_fm=frame[\"sales_q\"].loc[frame[\"name\"]==\"Football Manager 2016\"]\n",
    "    sales_year_gta=frame[\"sales_q\"].loc[frame[\"name\"]==\"Grand Theft Auto V\"]\n",
    "    prices_cs.extend(frame[\"local_price_usd\"].loc[frame[\"name\"]==\"Counter-Strike: Global Offensive\"]/ppp[country])\n",
    "    prices_pubg.extend(frame[\"local_price_usd\"].loc[frame[\"name\"]==\"PLAYERUNKNOWN'S BATTLEGROUNDS\"]/ppp[country])\n",
    "    prices_l4d.extend(frame[\"local_price_usd\"].loc[frame[\"name\"]==\"Left 4 Dead 2\"]/ppp[country])\n",
    "    prices_cod.extend(frame[\"local_price_usd\"].loc[frame[\"name\"]==\"Call of Duty: Modern Warfare 2\"]/ppp[country])\n",
    "    prices_fm.extend(frame[\"local_price_usd\"].loc[frame[\"name\"]==\"Football Manager 2016\"]/ppp[country])\n",
    "    prices_gta.extend(frame[\"local_price_usd\"].loc[frame[\"name\"]==\"Grand Theft Auto V\"]/ppp[country])\n",
    "    sales_cs.extend(sales_year_cs/popul[country])\n",
    "    sales_pubg.extend(sales_year_pubg/popul[country])\n",
    "    sales_l4d.extend(sales_year_l4d/popul[country])\n",
    "    sales_cod.extend(sales_year_cod/popul[country])\n",
    "    sales_fm.extend(sales_year_fm/popul[country])\n",
    "    sales_gta.extend(sales_year_gta/popul[country])\n",
    "\n",
    "import numpy as np\n",
    "import json\n",
    "import requests\n",
    "import matplotlib.colors as colors\n",
    "from numpy import random\n",
    "from multiprocessing import Pool\n",
    "import time\n",
    "import matplotlib.pyplot as plt\n",
    "import matplotlib \n",
    "\n",
    "# Learn about API authentication here: https://plot.ly/python/getting-started\n",
    "# Find your api_key here: https://plot.ly/settings/api\n",
    "\n",
    "plt.hist(prices_pubg)\n",
    "plt.title(\"Price Distribution of Player Unknown's Battleground\")\n",
    "plt.xlabel(\"Country\")\n",
    "plt.ylabel(\"Price in US Dollars\")\n",
    "\n",
    "fig = plt.gcf()"
   ]
  },
  {
   "cell_type": "code",
   "execution_count": 4,
   "metadata": {},
   "outputs": [
    {
     "ename": "SyntaxError",
     "evalue": "invalid syntax (<ipython-input-4-f18922216956>, line 1)",
     "output_type": "error",
     "traceback": [
      "\u001b[1;36m  File \u001b[1;32m\"<ipython-input-4-f18922216956>\"\u001b[1;36m, line \u001b[1;32m1\u001b[0m\n\u001b[1;33m    matplotlib inline\u001b[0m\n\u001b[1;37m                    ^\u001b[0m\n\u001b[1;31mSyntaxError\u001b[0m\u001b[1;31m:\u001b[0m invalid syntax\n"
     ]
    }
   ],
   "source": [
    "matplotlib inline"
   ]
  },
  {
   "cell_type": "code",
   "execution_count": 5,
   "metadata": {},
   "outputs": [],
   "source": [
    "%matplotlib inline"
   ]
  },
  {
   "cell_type": "code",
   "execution_count": 6,
   "metadata": {},
   "outputs": [
    {
     "data": {
      "image/png": "[encoded data removed]",
      "text/plain": [
       "<matplotlib.figure.Figure at 0x8218748>"
      ]
     },
     "metadata": {},
     "output_type": "display_data"
    }
   ],
   "source": [
    "import pandas as pd\n",
    "import os\n",
    "\n",
    "df=pd.read_csv('country_iso_code/STEAM_country.csv')\n",
    "country_path='country_clean/raw/'\n",
    "\n",
    "cont=[]\n",
    "contfull=[]\n",
    "for con in os.listdir(country_path):\n",
    "    if con !='.DS_Store':\n",
    "        cont.append(con[:2])\n",
    "        name=df[\"official_name_en\"].loc[df[\"ISO3166-1-Alpha-2\"].str.contains(con[:2].upper())==True]\n",
    "        contfull.extend(name)\n",
    "\n",
    "populs=[]\n",
    "temp=pd.read_csv(\"country.csv\")\n",
    "for i in range(len(cont)):\n",
    "    populs.extend(temp[\"Population\"].loc[temp[\"Country Name\"]==contfull[i]])\n",
    "        \n",
    "ppps=[]\n",
    "temp=pd.read_csv(\"ppp.csv\")\n",
    "for i in range(len(cont)):\n",
    "    ppps.extend(temp[\"PPP\"].loc[temp[\"Country Name\"]==contfull[i]].astype(float))\n",
    "    \n",
    "popul=dict(zip(cont,populs))\n",
    "ppp=dict(zip(cont,ppps))\n",
    "iso3=[]\n",
    "sales=[]\n",
    "sales_cs=[]\n",
    "sales_pubg=[]\n",
    "sales_l4d=[]\n",
    "sales_cod=[]\n",
    "sales_fm=[]\n",
    "sales_gta=[]\n",
    "prices_cs=[]\n",
    "prices_pubg=[]\n",
    "prices_l4d=[]\n",
    "prices_cod=[]\n",
    "prices_fm=[]\n",
    "prices_gta=[]\n",
    "for country in cont:\n",
    "    iso3.extend(df['ISO3166-1-Alpha-3'].loc[df[\"ISO3166-1-Alpha-2\"].str.lower()==country])\n",
    "    sales_year_cs=0\n",
    "    sales_year_pubg=0\n",
    "    sales_year_l4d=0\n",
    "    sales_year_cod=0\n",
    "    sales_year_fm=0\n",
    "    sales_year_gta=0\n",
    "    frame=pd.read_csv(\"country_clean/country_appid/\"+country+\".csv\")\n",
    "    sales_year_cs=frame[\"sales_q\"].loc[frame[\"name\"]==\"Counter-Strike: Global Offensive\"]\n",
    "    sales_year_pubg=frame[\"sales_q\"].loc[frame[\"name\"]==\"PLAYERUNKNOWN'S BATTLEGROUNDS\"]\n",
    "    sales_year_l4d=frame[\"sales_q\"].loc[frame[\"name\"]==\"Left 4 Dead 2\"]\n",
    "    sales_year_cod=frame[\"sales_q\"].loc[frame[\"name\"]==\"Call of Duty: Modern Warfare 2\"]\n",
    "    sales_year_fm=frame[\"sales_q\"].loc[frame[\"name\"]==\"Football Manager 2016\"]\n",
    "    sales_year_gta=frame[\"sales_q\"].loc[frame[\"name\"]==\"Grand Theft Auto V\"]\n",
    "    prices_cs.extend(frame[\"local_price_usd\"].loc[frame[\"name\"]==\"Counter-Strike: Global Offensive\"]/ppp[country])\n",
    "    prices_pubg.extend(frame[\"local_price_usd\"].loc[frame[\"name\"]==\"PLAYERUNKNOWN'S BATTLEGROUNDS\"]/ppp[country])\n",
    "    prices_l4d.extend(frame[\"local_price_usd\"].loc[frame[\"name\"]==\"Left 4 Dead 2\"]/ppp[country])\n",
    "    prices_cod.extend(frame[\"local_price_usd\"].loc[frame[\"name\"]==\"Call of Duty: Modern Warfare 2\"]/ppp[country])\n",
    "    prices_fm.extend(frame[\"local_price_usd\"].loc[frame[\"name\"]==\"Football Manager 2016\"]/ppp[country])\n",
    "    prices_gta.extend(frame[\"local_price_usd\"].loc[frame[\"name\"]==\"Grand Theft Auto V\"]/ppp[country])\n",
    "    sales_cs.extend(sales_year_cs/popul[country])\n",
    "    sales_pubg.extend(sales_year_pubg/popul[country])\n",
    "    sales_l4d.extend(sales_year_l4d/popul[country])\n",
    "    sales_cod.extend(sales_year_cod/popul[country])\n",
    "    sales_fm.extend(sales_year_fm/popul[country])\n",
    "    sales_gta.extend(sales_year_gta/popul[country])\n",
    "\n",
    "import numpy as np\n",
    "import json\n",
    "import requests\n",
    "import matplotlib.colors as colors\n",
    "from numpy import random\n",
    "from multiprocessing import Pool\n",
    "import time\n",
    "import matplotlib.pyplot as plt\n",
    "import matplotlib \n",
    "\n",
    "# Learn about API authentication here: https://plot.ly/python/getting-started\n",
    "# Find your api_key here: https://plot.ly/settings/api\n",
    "\n",
    "plt.hist(prices_pubg)\n",
    "plt.title(\"Price Distribution of Player Unknown's Battleground\")\n",
    "plt.xlabel(\"Country\")\n",
    "plt.ylabel(\"Price in US Dollars\")\n",
    "\n",
    "fig = plt.gcf()"
   ]
  },
  {
   "cell_type": "code",
   "execution_count": 7,
   "metadata": {},
   "outputs": [
    {
     "ename": "ImportError",
     "evalue": "cannot import name '_proj'",
     "output_type": "error",
     "traceback": [
      "\u001b[1;31m---------------------------------------------------------------------------\u001b[0m",
      "\u001b[1;31mImportError\u001b[0m                               Traceback (most recent call last)",
      "\u001b[1;32m<ipython-input-7-0cd554aaccda>\u001b[0m in \u001b[0;36m<module>\u001b[1;34m()\u001b[0m\n\u001b[0;32m     76\u001b[0m \u001b[1;32mimport\u001b[0m \u001b[0mtime\u001b[0m\u001b[1;33m\u001b[0m\u001b[0m\n\u001b[0;32m     77\u001b[0m \u001b[1;32mimport\u001b[0m \u001b[0mmatplotlib\u001b[0m\u001b[1;33m.\u001b[0m\u001b[0mpyplot\u001b[0m \u001b[1;32mas\u001b[0m \u001b[0mplt\u001b[0m\u001b[1;33m\u001b[0m\u001b[0m\n\u001b[1;32m---> 78\u001b[1;33m \u001b[1;32mimport\u001b[0m \u001b[0mgeopandas\u001b[0m \u001b[1;32mas\u001b[0m \u001b[0mgpd\u001b[0m\u001b[1;33m\u001b[0m\u001b[0m\n\u001b[0m\u001b[0;32m     79\u001b[0m \u001b[1;32mimport\u001b[0m \u001b[0mmatplotlib\u001b[0m\u001b[1;33m\u001b[0m\u001b[0m\n\u001b[0;32m     80\u001b[0m \u001b[1;32mfrom\u001b[0m \u001b[0mmpl_toolkits\u001b[0m\u001b[1;33m.\u001b[0m\u001b[0maxes_grid1\u001b[0m \u001b[1;32mimport\u001b[0m \u001b[0mAxesGrid\u001b[0m\u001b[1;33m\u001b[0m\u001b[0m\n",
      "\u001b[1;32mC:\\ProgramData\\Anaconda3\\lib\\site-packages\\geopandas\\__init__.py\u001b[0m in \u001b[0;36m<module>\u001b[1;34m()\u001b[0m\n\u001b[1;32m----> 1\u001b[1;33m \u001b[1;32mfrom\u001b[0m \u001b[0mgeopandas\u001b[0m\u001b[1;33m.\u001b[0m\u001b[0mgeoseries\u001b[0m \u001b[1;32mimport\u001b[0m \u001b[0mGeoSeries\u001b[0m\u001b[1;33m\u001b[0m\u001b[0m\n\u001b[0m\u001b[0;32m      2\u001b[0m \u001b[1;32mfrom\u001b[0m \u001b[0mgeopandas\u001b[0m\u001b[1;33m.\u001b[0m\u001b[0mgeodataframe\u001b[0m \u001b[1;32mimport\u001b[0m \u001b[0mGeoDataFrame\u001b[0m\u001b[1;33m\u001b[0m\u001b[0m\n\u001b[0;32m      3\u001b[0m \u001b[1;33m\u001b[0m\u001b[0m\n\u001b[0;32m      4\u001b[0m \u001b[1;32mfrom\u001b[0m \u001b[0mgeopandas\u001b[0m\u001b[1;33m.\u001b[0m\u001b[0mio\u001b[0m\u001b[1;33m.\u001b[0m\u001b[0mfile\u001b[0m \u001b[1;32mimport\u001b[0m \u001b[0mread_file\u001b[0m\u001b[1;33m\u001b[0m\u001b[0m\n\u001b[0;32m      5\u001b[0m \u001b[1;32mfrom\u001b[0m \u001b[0mgeopandas\u001b[0m\u001b[1;33m.\u001b[0m\u001b[0mio\u001b[0m\u001b[1;33m.\u001b[0m\u001b[0msql\u001b[0m \u001b[1;32mimport\u001b[0m \u001b[0mread_postgis\u001b[0m\u001b[1;33m\u001b[0m\u001b[0m\n",
      "\u001b[1;32mC:\\ProgramData\\Anaconda3\\lib\\site-packages\\geopandas\\geoseries.py\u001b[0m in \u001b[0;36m<module>\u001b[1;34m()\u001b[0m\n\u001b[0;32m      4\u001b[0m \u001b[1;32mimport\u001b[0m \u001b[0mnumpy\u001b[0m \u001b[1;32mas\u001b[0m \u001b[0mnp\u001b[0m\u001b[1;33m\u001b[0m\u001b[0m\n\u001b[0;32m      5\u001b[0m \u001b[1;32mfrom\u001b[0m \u001b[0mpandas\u001b[0m \u001b[1;32mimport\u001b[0m \u001b[0mSeries\u001b[0m\u001b[1;33m\u001b[0m\u001b[0m\n\u001b[1;32m----> 6\u001b[1;33m \u001b[1;32mimport\u001b[0m \u001b[0mpyproj\u001b[0m\u001b[1;33m\u001b[0m\u001b[0m\n\u001b[0m\u001b[0;32m      7\u001b[0m \u001b[1;32mfrom\u001b[0m \u001b[0mshapely\u001b[0m\u001b[1;33m.\u001b[0m\u001b[0mgeometry\u001b[0m \u001b[1;32mimport\u001b[0m \u001b[0mshape\u001b[0m\u001b[1;33m,\u001b[0m \u001b[0mPoint\u001b[0m\u001b[1;33m\u001b[0m\u001b[0m\n\u001b[0;32m      8\u001b[0m \u001b[1;32mfrom\u001b[0m \u001b[0mshapely\u001b[0m\u001b[1;33m.\u001b[0m\u001b[0mgeometry\u001b[0m\u001b[1;33m.\u001b[0m\u001b[0mbase\u001b[0m \u001b[1;32mimport\u001b[0m \u001b[0mBaseGeometry\u001b[0m\u001b[1;33m\u001b[0m\u001b[0m\n",
      "\u001b[1;32mC:\\ProgramData\\Anaconda3\\lib\\site-packages\\pyproj\\__init__.py\u001b[0m in \u001b[0;36m<module>\u001b[1;34m()\u001b[0m\n\u001b[0;32m     49\u001b[0m \u001b[1;33m\u001b[0m\u001b[0m\n\u001b[0;32m     50\u001b[0m \u001b[1;32mimport\u001b[0m \u001b[0msys\u001b[0m\u001b[1;33m\u001b[0m\u001b[0m\n\u001b[1;32m---> 51\u001b[1;33m \u001b[1;32mfrom\u001b[0m \u001b[0mpyproj\u001b[0m \u001b[1;32mimport\u001b[0m \u001b[0m_proj\u001b[0m\u001b[1;33m\u001b[0m\u001b[0m\n\u001b[0m\u001b[0;32m     52\u001b[0m \u001b[1;32mfrom\u001b[0m \u001b[0mpyproj\u001b[0m\u001b[1;33m.\u001b[0m\u001b[0mdatadir\u001b[0m \u001b[1;32mimport\u001b[0m \u001b[0mpyproj_datadir\u001b[0m\u001b[1;33m\u001b[0m\u001b[0m\n\u001b[0;32m     53\u001b[0m \u001b[0m__version__\u001b[0m \u001b[1;33m=\u001b[0m  \u001b[0m_proj\u001b[0m\u001b[1;33m.\u001b[0m\u001b[0m__version__\u001b[0m\u001b[1;33m\u001b[0m\u001b[0m\n",
      "\u001b[1;31mImportError\u001b[0m: cannot import name '_proj'"
     ]
    }
   ],
   "source": [
    "import pandas as pd\n",
    "import os\n",
    "\n",
    "path=\"C:\\\\Program Files (x86)\\Python36-32\"\n",
    "df=pd.read_csv(path+'/country_iso_code/STEAM_country.csv')\n",
    "country_path=path+'/country_clean/raw/'\n",
    "\n",
    "cont=[]\n",
    "contfull=[]\n",
    "for con in os.listdir(country_path):\n",
    "    if con !='.DS_Store':\n",
    "        cont.append(con[:2])\n",
    "        name=df[\"official_name_en\"].loc[df[\"ISO3166-1-Alpha-2\"].str.contains(con[:2].upper())==True]\n",
    "        contfull.extend(name)\n",
    "\n",
    "populs=[]\n",
    "temp=pd.read_csv(path+\"/country.csv\")\n",
    "for i in range(len(cont)):\n",
    "    populs.extend(temp[\"Population\"].loc[temp[\"Country Name\"]==contfull[i]])\n",
    "        \n",
    "ppps=[]\n",
    "temp=pd.read_csv(path+\"/ppp.csv\")\n",
    "for i in range(len(cont)):\n",
    "    ppps.extend(temp[\"PPP\"].loc[temp[\"Country Name\"]==contfull[i]].astype(float))\n",
    "    \n",
    "popul=dict(zip(cont,populs))\n",
    "ppp=dict(zip(cont,ppps))\n",
    "iso3=[]\n",
    "sales=[]\n",
    "sales_cs=[]\n",
    "sales_pubg=[]\n",
    "sales_l4d=[]\n",
    "sales_cod=[]\n",
    "sales_fm=[]\n",
    "sales_gta=[]\n",
    "prices_cs=[]\n",
    "prices_pubg=[]\n",
    "prices_l4d=[]\n",
    "prices_cod=[]\n",
    "prices_fm=[]\n",
    "prices_gta=[]\n",
    "for country in cont:\n",
    "    iso3.extend(df['ISO3166-1-Alpha-3'].loc[df[\"ISO3166-1-Alpha-2\"].str.lower()==country])\n",
    "    sales_year_cs=0\n",
    "    sales_year_pubg=0\n",
    "    sales_year_l4d=0\n",
    "    sales_year_cod=0\n",
    "    sales_year_fm=0\n",
    "    sales_year_gta=0\n",
    "    frame=pd.read_csv(path+\"/country_clean/country_appid/\"+country+\".csv\")\n",
    "    sales_year_cs=frame[\"sales_q\"].loc[frame[\"name\"]==\"Counter-Strike: Global Offensive\"]\n",
    "    sales_year_pubg=frame[\"sales_q\"].loc[frame[\"name\"]==\"PLAYERUNKNOWN'S BATTLEGROUNDS\"]\n",
    "    sales_year_l4d=frame[\"sales_q\"].loc[frame[\"name\"]==\"Left 4 Dead 2\"]\n",
    "    sales_year_cod=frame[\"sales_q\"].loc[frame[\"name\"]==\"Call of Duty: Modern Warfare 2\"]\n",
    "    sales_year_fm=frame[\"sales_q\"].loc[frame[\"name\"]==\"Football Manager 2016\"]\n",
    "    sales_year_gta=frame[\"sales_q\"].loc[frame[\"name\"]==\"Grand Theft Auto V\"]\n",
    "    prices_cs.extend(frame[\"local_price_usd\"].loc[frame[\"name\"]==\"Counter-Strike: Global Offensive\"]/ppp[country])\n",
    "    prices_pubg.extend(frame[\"local_price_usd\"].loc[frame[\"name\"]==\"PLAYERUNKNOWN'S BATTLEGROUNDS\"]/ppp[country])\n",
    "    prices_l4d.extend(frame[\"local_price_usd\"].loc[frame[\"name\"]==\"Left 4 Dead 2\"]/ppp[country])\n",
    "    prices_cod.extend(frame[\"local_price_usd\"].loc[frame[\"name\"]==\"Call of Duty: Modern Warfare 2\"]/ppp[country])\n",
    "    prices_fm.extend(frame[\"local_price_usd\"].loc[frame[\"name\"]==\"Football Manager 2016\"]/ppp[country])\n",
    "    prices_gta.extend(frame[\"local_price_usd\"].loc[frame[\"name\"]==\"Grand Theft Auto V\"]/ppp[country])\n",
    "    sales_cs.extend(sales_year_cs/popul[country])\n",
    "    sales_pubg.extend(sales_year_pubg/popul[country])\n",
    "    sales_l4d.extend(sales_year_l4d/popul[country])\n",
    "    sales_cod.extend(sales_year_cod/popul[country])\n",
    "    sales_fm.extend(sales_year_fm/popul[country])\n",
    "    sales_gta.extend(sales_year_gta/popul[country])\n",
    "\n",
    "import numpy as np\n",
    "import json\n",
    "import requests\n",
    "import matplotlib.colors as colors\n",
    "from numpy import random\n",
    "from multiprocessing import Pool\n",
    "import time\n",
    "import matplotlib.pyplot as plt\n",
    "import geopandas as gpd\n",
    "import matplotlib \n",
    "from mpl_toolkits.axes_grid1 import AxesGrid\n",
    "\n",
    "class MidpointNormalize(colors.Normalize):\n",
    "\tdef __init__(self, vmin=None, vmax=None, midpoint=None, clip=False):\n",
    "\t\tself.midpoint = midpoint\n",
    "\t\tcolors.Normalize.__init__(self, vmin, vmax, clip)\n",
    "\n",
    "\tdef __call__(self, value, clip=None):\n",
    "\t\t# I'm ignoring masked values and all kinds of edge cases to make a\n",
    "\t\t# simple example...\n",
    "\t\tx, y = [self.vmin, self.midpoint, self.vmax], [0, 0.5, 1]\n",
    "\t\treturn np.ma.masked_array(np.interp(value, x, y), np.isnan(value))\n",
    "graph_cs=pd.DataFrame({\"iso_a3\":iso3,\"country\":cont,\"prices_pubg\":prices_pubg})\n",
    "world = gpd.read_file(gpd.datasets.get_path('naturalearth_lowres'))\n",
    "world.join(graph_cs.set_index('iso_a3'), on='iso_a3')\n",
    "world = pd.merge(world, graph_cs, left_on='iso_a3', right_on='iso_a3',how='outer')\n",
    "ax = world.plot(color=\"dimgrey\")\n",
    "world.plot(ax=ax, column=\"prices_pubg\", cmap='OrRd',scheme=None,alpha =0.7,legend = True)\n",
    "ax.set_title(\"PPP Adjusted Prices of Player Unknown's Battleground\")\n",
    "plt.savefig(\"C:/Program Files (x86)/Python36-32/output/prices_pubg_ppp.pdf\")\n",
    "plt.show()\n",
    "\n"
   ]
  },
  {
   "cell_type": "code",
   "execution_count": 8,
   "metadata": {},
   "outputs": [
    {
     "ename": "ImportError",
     "evalue": "cannot import name '_proj'",
     "output_type": "error",
     "traceback": [
      "\u001b[1;31m---------------------------------------------------------------------------\u001b[0m",
      "\u001b[1;31mImportError\u001b[0m                               Traceback (most recent call last)",
      "\u001b[1;32m<ipython-input-8-8e5d0772a073>\u001b[0m in \u001b[0;36m<module>\u001b[1;34m()\u001b[0m\n\u001b[0;32m     75\u001b[0m \u001b[1;32mimport\u001b[0m \u001b[0mtime\u001b[0m\u001b[1;33m\u001b[0m\u001b[0m\n\u001b[0;32m     76\u001b[0m \u001b[1;32mimport\u001b[0m \u001b[0mmatplotlib\u001b[0m\u001b[1;33m.\u001b[0m\u001b[0mpyplot\u001b[0m \u001b[1;32mas\u001b[0m \u001b[0mplt\u001b[0m\u001b[1;33m\u001b[0m\u001b[0m\n\u001b[1;32m---> 77\u001b[1;33m \u001b[1;32mimport\u001b[0m \u001b[0mgeopandas\u001b[0m \u001b[1;32mas\u001b[0m \u001b[0mgpd\u001b[0m\u001b[1;33m\u001b[0m\u001b[0m\n\u001b[0m\u001b[0;32m     78\u001b[0m \u001b[1;32mimport\u001b[0m \u001b[0mmatplotlib\u001b[0m\u001b[1;33m\u001b[0m\u001b[0m\n\u001b[0;32m     79\u001b[0m \u001b[1;32mfrom\u001b[0m \u001b[0mmpl_toolkits\u001b[0m\u001b[1;33m.\u001b[0m\u001b[0maxes_grid1\u001b[0m \u001b[1;32mimport\u001b[0m \u001b[0mAxesGrid\u001b[0m\u001b[1;33m\u001b[0m\u001b[0m\n",
      "\u001b[1;32mC:\\ProgramData\\Anaconda3\\lib\\site-packages\\geopandas\\__init__.py\u001b[0m in \u001b[0;36m<module>\u001b[1;34m()\u001b[0m\n\u001b[1;32m----> 1\u001b[1;33m \u001b[1;32mfrom\u001b[0m \u001b[0mgeopandas\u001b[0m\u001b[1;33m.\u001b[0m\u001b[0mgeoseries\u001b[0m \u001b[1;32mimport\u001b[0m \u001b[0mGeoSeries\u001b[0m\u001b[1;33m\u001b[0m\u001b[0m\n\u001b[0m\u001b[0;32m      2\u001b[0m \u001b[1;32mfrom\u001b[0m \u001b[0mgeopandas\u001b[0m\u001b[1;33m.\u001b[0m\u001b[0mgeodataframe\u001b[0m \u001b[1;32mimport\u001b[0m \u001b[0mGeoDataFrame\u001b[0m\u001b[1;33m\u001b[0m\u001b[0m\n\u001b[0;32m      3\u001b[0m \u001b[1;33m\u001b[0m\u001b[0m\n\u001b[0;32m      4\u001b[0m \u001b[1;32mfrom\u001b[0m \u001b[0mgeopandas\u001b[0m\u001b[1;33m.\u001b[0m\u001b[0mio\u001b[0m\u001b[1;33m.\u001b[0m\u001b[0mfile\u001b[0m \u001b[1;32mimport\u001b[0m \u001b[0mread_file\u001b[0m\u001b[1;33m\u001b[0m\u001b[0m\n\u001b[0;32m      5\u001b[0m \u001b[1;32mfrom\u001b[0m \u001b[0mgeopandas\u001b[0m\u001b[1;33m.\u001b[0m\u001b[0mio\u001b[0m\u001b[1;33m.\u001b[0m\u001b[0msql\u001b[0m \u001b[1;32mimport\u001b[0m \u001b[0mread_postgis\u001b[0m\u001b[1;33m\u001b[0m\u001b[0m\n",
      "\u001b[1;32mC:\\ProgramData\\Anaconda3\\lib\\site-packages\\geopandas\\geoseries.py\u001b[0m in \u001b[0;36m<module>\u001b[1;34m()\u001b[0m\n\u001b[0;32m      4\u001b[0m \u001b[1;32mimport\u001b[0m \u001b[0mnumpy\u001b[0m \u001b[1;32mas\u001b[0m \u001b[0mnp\u001b[0m\u001b[1;33m\u001b[0m\u001b[0m\n\u001b[0;32m      5\u001b[0m \u001b[1;32mfrom\u001b[0m \u001b[0mpandas\u001b[0m \u001b[1;32mimport\u001b[0m \u001b[0mSeries\u001b[0m\u001b[1;33m\u001b[0m\u001b[0m\n\u001b[1;32m----> 6\u001b[1;33m \u001b[1;32mimport\u001b[0m \u001b[0mpyproj\u001b[0m\u001b[1;33m\u001b[0m\u001b[0m\n\u001b[0m\u001b[0;32m      7\u001b[0m \u001b[1;32mfrom\u001b[0m \u001b[0mshapely\u001b[0m\u001b[1;33m.\u001b[0m\u001b[0mgeometry\u001b[0m \u001b[1;32mimport\u001b[0m \u001b[0mshape\u001b[0m\u001b[1;33m,\u001b[0m \u001b[0mPoint\u001b[0m\u001b[1;33m\u001b[0m\u001b[0m\n\u001b[0;32m      8\u001b[0m \u001b[1;32mfrom\u001b[0m \u001b[0mshapely\u001b[0m\u001b[1;33m.\u001b[0m\u001b[0mgeometry\u001b[0m\u001b[1;33m.\u001b[0m\u001b[0mbase\u001b[0m \u001b[1;32mimport\u001b[0m \u001b[0mBaseGeometry\u001b[0m\u001b[1;33m\u001b[0m\u001b[0m\n",
      "\u001b[1;32mC:\\ProgramData\\Anaconda3\\lib\\site-packages\\pyproj\\__init__.py\u001b[0m in \u001b[0;36m<module>\u001b[1;34m()\u001b[0m\n\u001b[0;32m     49\u001b[0m \u001b[1;33m\u001b[0m\u001b[0m\n\u001b[0;32m     50\u001b[0m \u001b[1;32mimport\u001b[0m \u001b[0msys\u001b[0m\u001b[1;33m\u001b[0m\u001b[0m\n\u001b[1;32m---> 51\u001b[1;33m \u001b[1;32mfrom\u001b[0m \u001b[0mpyproj\u001b[0m \u001b[1;32mimport\u001b[0m \u001b[0m_proj\u001b[0m\u001b[1;33m\u001b[0m\u001b[0m\n\u001b[0m\u001b[0;32m     52\u001b[0m \u001b[1;32mfrom\u001b[0m \u001b[0mpyproj\u001b[0m\u001b[1;33m.\u001b[0m\u001b[0mdatadir\u001b[0m \u001b[1;32mimport\u001b[0m \u001b[0mpyproj_datadir\u001b[0m\u001b[1;33m\u001b[0m\u001b[0m\n\u001b[0;32m     53\u001b[0m \u001b[0m__version__\u001b[0m \u001b[1;33m=\u001b[0m  \u001b[0m_proj\u001b[0m\u001b[1;33m.\u001b[0m\u001b[0m__version__\u001b[0m\u001b[1;33m\u001b[0m\u001b[0m\n",
      "\u001b[1;31mImportError\u001b[0m: cannot import name '_proj'"
     ]
    }
   ],
   "source": [
    "import pandas as pd\n",
    "import os\n",
    "\n",
    "df=pd.read_csv('country_iso_code/STEAM_country.csv')\n",
    "country_path='country_clean/raw/'\n",
    "\n",
    "cont=[]\n",
    "contfull=[]\n",
    "for con in os.listdir(country_path):\n",
    "    if con !='.DS_Store':\n",
    "        cont.append(con[:2])\n",
    "        name=df[\"official_name_en\"].loc[df[\"ISO3166-1-Alpha-2\"].str.contains(con[:2].upper())==True]\n",
    "        contfull.extend(name)\n",
    "\n",
    "populs=[]\n",
    "temp=pd.read_csv(\"country.csv\")\n",
    "for i in range(len(cont)):\n",
    "    populs.extend(temp[\"Population\"].loc[temp[\"Country Name\"]==contfull[i]])\n",
    "        \n",
    "ppps=[]\n",
    "temp=pd.read_csv(\"ppp.csv\")\n",
    "for i in range(len(cont)):\n",
    "    ppps.extend(temp[\"PPP\"].loc[temp[\"Country Name\"]==contfull[i]].astype(float))\n",
    "    \n",
    "popul=dict(zip(cont,populs))\n",
    "ppp=dict(zip(cont,ppps))\n",
    "iso3=[]\n",
    "sales=[]\n",
    "sales_cs=[]\n",
    "sales_pubg=[]\n",
    "sales_l4d=[]\n",
    "sales_cod=[]\n",
    "sales_fm=[]\n",
    "sales_gta=[]\n",
    "prices_cs=[]\n",
    "prices_pubg=[]\n",
    "prices_l4d=[]\n",
    "prices_cod=[]\n",
    "prices_fm=[]\n",
    "prices_gta=[]\n",
    "for country in cont:\n",
    "    iso3.extend(df['ISO3166-1-Alpha-3'].loc[df[\"ISO3166-1-Alpha-2\"].str.lower()==country])\n",
    "    sales_year_cs=0\n",
    "    sales_year_pubg=0\n",
    "    sales_year_l4d=0\n",
    "    sales_year_cod=0\n",
    "    sales_year_fm=0\n",
    "    sales_year_gta=0\n",
    "    frame=pd.read_csv(\"country_clean/country_appid/\"+country+\".csv\")\n",
    "    sales_year_cs=frame[\"sales_q\"].loc[frame[\"name\"]==\"Counter-Strike: Global Offensive\"]\n",
    "    sales_year_pubg=frame[\"sales_q\"].loc[frame[\"name\"]==\"PLAYERUNKNOWN'S BATTLEGROUNDS\"]\n",
    "    sales_year_l4d=frame[\"sales_q\"].loc[frame[\"name\"]==\"Left 4 Dead 2\"]\n",
    "    sales_year_cod=frame[\"sales_q\"].loc[frame[\"name\"]==\"Call of Duty: Modern Warfare 2\"]\n",
    "    sales_year_fm=frame[\"sales_q\"].loc[frame[\"name\"]==\"Football Manager 2016\"]\n",
    "    sales_year_gta=frame[\"sales_q\"].loc[frame[\"name\"]==\"Grand Theft Auto V\"]\n",
    "    prices_cs.extend(frame[\"local_price_usd\"].loc[frame[\"name\"]==\"Counter-Strike: Global Offensive\"]/ppp[country])\n",
    "    prices_pubg.extend(frame[\"local_price_usd\"].loc[frame[\"name\"]==\"PLAYERUNKNOWN'S BATTLEGROUNDS\"]/ppp[country])\n",
    "    prices_l4d.extend(frame[\"local_price_usd\"].loc[frame[\"name\"]==\"Left 4 Dead 2\"]/ppp[country])\n",
    "    prices_cod.extend(frame[\"local_price_usd\"].loc[frame[\"name\"]==\"Call of Duty: Modern Warfare 2\"]/ppp[country])\n",
    "    prices_fm.extend(frame[\"local_price_usd\"].loc[frame[\"name\"]==\"Football Manager 2016\"]/ppp[country])\n",
    "    prices_gta.extend(frame[\"local_price_usd\"].loc[frame[\"name\"]==\"Grand Theft Auto V\"]/ppp[country])\n",
    "    sales_cs.extend(sales_year_cs/popul[country])\n",
    "    sales_pubg.extend(sales_year_pubg/popul[country])\n",
    "    sales_l4d.extend(sales_year_l4d/popul[country])\n",
    "    sales_cod.extend(sales_year_cod/popul[country])\n",
    "    sales_fm.extend(sales_year_fm/popul[country])\n",
    "    sales_gta.extend(sales_year_gta/popul[country])\n",
    "\n",
    "import numpy as np\n",
    "import json\n",
    "import requests\n",
    "import matplotlib.colors as colors\n",
    "from numpy import random\n",
    "from multiprocessing import Pool\n",
    "import time\n",
    "import matplotlib.pyplot as plt\n",
    "import geopandas as gpd\n",
    "import matplotlib \n",
    "from mpl_toolkits.axes_grid1 import AxesGrid\n",
    "\n",
    "class MidpointNormalize(colors.Normalize):\n",
    "\tdef __init__(self, vmin=None, vmax=None, midpoint=None, clip=False):\n",
    "\t\tself.midpoint = midpoint\n",
    "\t\tcolors.Normalize.__init__(self, vmin, vmax, clip)\n",
    "\n",
    "\tdef __call__(self, value, clip=None):\n",
    "\t\t# I'm ignoring masked values and all kinds of edge cases to make a\n",
    "\t\t# simple example...\n",
    "\t\tx, y = [self.vmin, self.midpoint, self.vmax], [0, 0.5, 1]\n",
    "\t\treturn np.ma.masked_array(np.interp(value, x, y), np.isnan(value))\n",
    "graph_cs=pd.DataFrame({\"iso_a3\":iso3,\"country\":cont,\"prices_pubg\":prices_pubg})\n",
    "world = gpd.read_file(gpd.datasets.get_path('naturalearth_lowres'))\n",
    "world.join(graph_cs.set_index('iso_a3'), on='iso_a3')\n",
    "world = pd.merge(world, graph_cs, left_on='iso_a3', right_on='iso_a3',how='outer')\n",
    "ax = world.plot(color=\"dimgrey\")\n",
    "world.plot(ax=ax, column=\"prices_pubg\", cmap='OrRd',scheme=None,alpha =0.7,legend = True)\n",
    "ax.set_title(\"PPP Adjusted Prices of Player Unknown's Battleground\")\n",
    "plt.savefig(\"C:/Program Files (x86)/Python36-32/output/prices_pubg_ppp.pdf\")\n",
    "plt.show()"
   ]
  },
  {
   "cell_type": "code",
   "execution_count": 9,
   "metadata": {},
   "outputs": [
    {
     "data": {
      "text/plain": [
       "'C:\\\\Program Files (x86)\\\\Python36-32'"
      ]
     },
     "execution_count": 9,
     "metadata": {},
     "output_type": "execute_result"
    }
   ],
   "source": [
    "pwd"
   ]
  },
  {
   "cell_type": "code",
   "execution_count": 10,
   "metadata": {},
   "outputs": [
    {
     "ename": "SyntaxError",
     "evalue": "invalid syntax (<ipython-input-10-22771e815c12>, line 1)",
     "output_type": "error",
     "traceback": [
      "\u001b[1;36m  File \u001b[1;32m\"<ipython-input-10-22771e815c12>\"\u001b[1;36m, line \u001b[1;32m1\u001b[0m\n\u001b[1;33m    cd../\u001b[0m\n\u001b[1;37m       ^\u001b[0m\n\u001b[1;31mSyntaxError\u001b[0m\u001b[1;31m:\u001b[0m invalid syntax\n"
     ]
    }
   ],
   "source": [
    "cd../"
   ]
  },
  {
   "cell_type": "code",
   "execution_count": 11,
   "metadata": {},
   "outputs": [
    {
     "name": "stdout",
     "output_type": "stream",
     "text": [
      "C:\\Program Files (x86)\n"
     ]
    }
   ],
   "source": [
    "cd ../"
   ]
  },
  {
   "cell_type": "code",
   "execution_count": 12,
   "metadata": {},
   "outputs": [
    {
     "name": "stdout",
     "output_type": "stream",
     "text": [
      "C:\\\n"
     ]
    }
   ],
   "source": [
    "cd ../"
   ]
  },
  {
   "cell_type": "code",
   "execution_count": 13,
   "metadata": {},
   "outputs": [
    {
     "name": "stdout",
     "output_type": "stream",
     "text": [
      "C:\\ProgramData\\Anaconda3\n"
     ]
    }
   ],
   "source": [
    "cd ProgramData/Anaconda3"
   ]
  },
  {
   "cell_type": "code",
   "execution_count": 14,
   "metadata": {},
   "outputs": [
    {
     "ename": "FileNotFoundError",
     "evalue": "File b'country_iso_code/STEAM_country.csv' does not exist",
     "output_type": "error",
     "traceback": [
      "\u001b[1;31m---------------------------------------------------------------------------\u001b[0m",
      "\u001b[1;31mFileNotFoundError\u001b[0m                         Traceback (most recent call last)",
      "\u001b[1;32m<ipython-input-14-8e5d0772a073>\u001b[0m in \u001b[0;36m<module>\u001b[1;34m()\u001b[0m\n\u001b[0;32m      2\u001b[0m \u001b[1;32mimport\u001b[0m \u001b[0mos\u001b[0m\u001b[1;33m\u001b[0m\u001b[0m\n\u001b[0;32m      3\u001b[0m \u001b[1;33m\u001b[0m\u001b[0m\n\u001b[1;32m----> 4\u001b[1;33m \u001b[0mdf\u001b[0m\u001b[1;33m=\u001b[0m\u001b[0mpd\u001b[0m\u001b[1;33m.\u001b[0m\u001b[0mread_csv\u001b[0m\u001b[1;33m(\u001b[0m\u001b[1;34m'country_iso_code/STEAM_country.csv'\u001b[0m\u001b[1;33m)\u001b[0m\u001b[1;33m\u001b[0m\u001b[0m\n\u001b[0m\u001b[0;32m      5\u001b[0m \u001b[0mcountry_path\u001b[0m\u001b[1;33m=\u001b[0m\u001b[1;34m'country_clean/raw/'\u001b[0m\u001b[1;33m\u001b[0m\u001b[0m\n\u001b[0;32m      6\u001b[0m \u001b[1;33m\u001b[0m\u001b[0m\n",
      "\u001b[1;32mC:\\ProgramData\\Anaconda3\\lib\\site-packages\\pandas\\io\\parsers.py\u001b[0m in \u001b[0;36mparser_f\u001b[1;34m(filepath_or_buffer, sep, delimiter, header, names, index_col, usecols, squeeze, prefix, mangle_dupe_cols, dtype, engine, converters, true_values, false_values, skipinitialspace, skiprows, nrows, na_values, keep_default_na, na_filter, verbose, skip_blank_lines, parse_dates, infer_datetime_format, keep_date_col, date_parser, dayfirst, iterator, chunksize, compression, thousands, decimal, lineterminator, quotechar, quoting, escapechar, comment, encoding, dialect, tupleize_cols, error_bad_lines, warn_bad_lines, skipfooter, skip_footer, doublequote, delim_whitespace, as_recarray, compact_ints, use_unsigned, low_memory, buffer_lines, memory_map, float_precision)\u001b[0m\n\u001b[0;32m    707\u001b[0m                     skip_blank_lines=skip_blank_lines)\n\u001b[0;32m    708\u001b[0m \u001b[1;33m\u001b[0m\u001b[0m\n\u001b[1;32m--> 709\u001b[1;33m         \u001b[1;32mreturn\u001b[0m \u001b[0m_read\u001b[0m\u001b[1;33m(\u001b[0m\u001b[0mfilepath_or_buffer\u001b[0m\u001b[1;33m,\u001b[0m \u001b[0mkwds\u001b[0m\u001b[1;33m)\u001b[0m\u001b[1;33m\u001b[0m\u001b[0m\n\u001b[0m\u001b[0;32m    710\u001b[0m \u001b[1;33m\u001b[0m\u001b[0m\n\u001b[0;32m    711\u001b[0m     \u001b[0mparser_f\u001b[0m\u001b[1;33m.\u001b[0m\u001b[0m__name__\u001b[0m \u001b[1;33m=\u001b[0m \u001b[0mname\u001b[0m\u001b[1;33m\u001b[0m\u001b[0m\n",
      "\u001b[1;32mC:\\ProgramData\\Anaconda3\\lib\\site-packages\\pandas\\io\\parsers.py\u001b[0m in \u001b[0;36m_read\u001b[1;34m(filepath_or_buffer, kwds)\u001b[0m\n\u001b[0;32m    447\u001b[0m \u001b[1;33m\u001b[0m\u001b[0m\n\u001b[0;32m    448\u001b[0m     \u001b[1;31m# Create the parser.\u001b[0m\u001b[1;33m\u001b[0m\u001b[1;33m\u001b[0m\u001b[0m\n\u001b[1;32m--> 449\u001b[1;33m     \u001b[0mparser\u001b[0m \u001b[1;33m=\u001b[0m \u001b[0mTextFileReader\u001b[0m\u001b[1;33m(\u001b[0m\u001b[0mfilepath_or_buffer\u001b[0m\u001b[1;33m,\u001b[0m \u001b[1;33m**\u001b[0m\u001b[0mkwds\u001b[0m\u001b[1;33m)\u001b[0m\u001b[1;33m\u001b[0m\u001b[0m\n\u001b[0m\u001b[0;32m    450\u001b[0m \u001b[1;33m\u001b[0m\u001b[0m\n\u001b[0;32m    451\u001b[0m     \u001b[1;32mif\u001b[0m \u001b[0mchunksize\u001b[0m \u001b[1;32mor\u001b[0m \u001b[0miterator\u001b[0m\u001b[1;33m:\u001b[0m\u001b[1;33m\u001b[0m\u001b[0m\n",
      "\u001b[1;32mC:\\ProgramData\\Anaconda3\\lib\\site-packages\\pandas\\io\\parsers.py\u001b[0m in \u001b[0;36m__init__\u001b[1;34m(self, f, engine, **kwds)\u001b[0m\n\u001b[0;32m    816\u001b[0m             \u001b[0mself\u001b[0m\u001b[1;33m.\u001b[0m\u001b[0moptions\u001b[0m\u001b[1;33m[\u001b[0m\u001b[1;34m'has_index_names'\u001b[0m\u001b[1;33m]\u001b[0m \u001b[1;33m=\u001b[0m \u001b[0mkwds\u001b[0m\u001b[1;33m[\u001b[0m\u001b[1;34m'has_index_names'\u001b[0m\u001b[1;33m]\u001b[0m\u001b[1;33m\u001b[0m\u001b[0m\n\u001b[0;32m    817\u001b[0m \u001b[1;33m\u001b[0m\u001b[0m\n\u001b[1;32m--> 818\u001b[1;33m         \u001b[0mself\u001b[0m\u001b[1;33m.\u001b[0m\u001b[0m_make_engine\u001b[0m\u001b[1;33m(\u001b[0m\u001b[0mself\u001b[0m\u001b[1;33m.\u001b[0m\u001b[0mengine\u001b[0m\u001b[1;33m)\u001b[0m\u001b[1;33m\u001b[0m\u001b[0m\n\u001b[0m\u001b[0;32m    819\u001b[0m \u001b[1;33m\u001b[0m\u001b[0m\n\u001b[0;32m    820\u001b[0m     \u001b[1;32mdef\u001b[0m \u001b[0mclose\u001b[0m\u001b[1;33m(\u001b[0m\u001b[0mself\u001b[0m\u001b[1;33m)\u001b[0m\u001b[1;33m:\u001b[0m\u001b[1;33m\u001b[0m\u001b[0m\n",
      "\u001b[1;32mC:\\ProgramData\\Anaconda3\\lib\\site-packages\\pandas\\io\\parsers.py\u001b[0m in \u001b[0;36m_make_engine\u001b[1;34m(self, engine)\u001b[0m\n\u001b[0;32m   1047\u001b[0m     \u001b[1;32mdef\u001b[0m \u001b[0m_make_engine\u001b[0m\u001b[1;33m(\u001b[0m\u001b[0mself\u001b[0m\u001b[1;33m,\u001b[0m \u001b[0mengine\u001b[0m\u001b[1;33m=\u001b[0m\u001b[1;34m'c'\u001b[0m\u001b[1;33m)\u001b[0m\u001b[1;33m:\u001b[0m\u001b[1;33m\u001b[0m\u001b[0m\n\u001b[0;32m   1048\u001b[0m         \u001b[1;32mif\u001b[0m \u001b[0mengine\u001b[0m \u001b[1;33m==\u001b[0m \u001b[1;34m'c'\u001b[0m\u001b[1;33m:\u001b[0m\u001b[1;33m\u001b[0m\u001b[0m\n\u001b[1;32m-> 1049\u001b[1;33m             \u001b[0mself\u001b[0m\u001b[1;33m.\u001b[0m\u001b[0m_engine\u001b[0m \u001b[1;33m=\u001b[0m \u001b[0mCParserWrapper\u001b[0m\u001b[1;33m(\u001b[0m\u001b[0mself\u001b[0m\u001b[1;33m.\u001b[0m\u001b[0mf\u001b[0m\u001b[1;33m,\u001b[0m \u001b[1;33m**\u001b[0m\u001b[0mself\u001b[0m\u001b[1;33m.\u001b[0m\u001b[0moptions\u001b[0m\u001b[1;33m)\u001b[0m\u001b[1;33m\u001b[0m\u001b[0m\n\u001b[0m\u001b[0;32m   1050\u001b[0m         \u001b[1;32melse\u001b[0m\u001b[1;33m:\u001b[0m\u001b[1;33m\u001b[0m\u001b[0m\n\u001b[0;32m   1051\u001b[0m             \u001b[1;32mif\u001b[0m \u001b[0mengine\u001b[0m \u001b[1;33m==\u001b[0m \u001b[1;34m'python'\u001b[0m\u001b[1;33m:\u001b[0m\u001b[1;33m\u001b[0m\u001b[0m\n",
      "\u001b[1;32mC:\\ProgramData\\Anaconda3\\lib\\site-packages\\pandas\\io\\parsers.py\u001b[0m in \u001b[0;36m__init__\u001b[1;34m(self, src, **kwds)\u001b[0m\n\u001b[0;32m   1693\u001b[0m         \u001b[0mkwds\u001b[0m\u001b[1;33m[\u001b[0m\u001b[1;34m'allow_leading_cols'\u001b[0m\u001b[1;33m]\u001b[0m \u001b[1;33m=\u001b[0m \u001b[0mself\u001b[0m\u001b[1;33m.\u001b[0m\u001b[0mindex_col\u001b[0m \u001b[1;32mis\u001b[0m \u001b[1;32mnot\u001b[0m \u001b[1;32mFalse\u001b[0m\u001b[1;33m\u001b[0m\u001b[0m\n\u001b[0;32m   1694\u001b[0m \u001b[1;33m\u001b[0m\u001b[0m\n\u001b[1;32m-> 1695\u001b[1;33m         \u001b[0mself\u001b[0m\u001b[1;33m.\u001b[0m\u001b[0m_reader\u001b[0m \u001b[1;33m=\u001b[0m \u001b[0mparsers\u001b[0m\u001b[1;33m.\u001b[0m\u001b[0mTextReader\u001b[0m\u001b[1;33m(\u001b[0m\u001b[0msrc\u001b[0m\u001b[1;33m,\u001b[0m \u001b[1;33m**\u001b[0m\u001b[0mkwds\u001b[0m\u001b[1;33m)\u001b[0m\u001b[1;33m\u001b[0m\u001b[0m\n\u001b[0m\u001b[0;32m   1696\u001b[0m \u001b[1;33m\u001b[0m\u001b[0m\n\u001b[0;32m   1697\u001b[0m         \u001b[1;31m# XXX\u001b[0m\u001b[1;33m\u001b[0m\u001b[1;33m\u001b[0m\u001b[0m\n",
      "\u001b[1;32mpandas/_libs/parsers.pyx\u001b[0m in \u001b[0;36mpandas._libs.parsers.TextReader.__cinit__\u001b[1;34m()\u001b[0m\n",
      "\u001b[1;32mpandas/_libs/parsers.pyx\u001b[0m in \u001b[0;36mpandas._libs.parsers.TextReader._setup_parser_source\u001b[1;34m()\u001b[0m\n",
      "\u001b[1;31mFileNotFoundError\u001b[0m: File b'country_iso_code/STEAM_country.csv' does not exist"
     ]
    }
   ],
   "source": [
    "import pandas as pd\n",
    "import os\n",
    "\n",
    "df=pd.read_csv('country_iso_code/STEAM_country.csv')\n",
    "country_path='country_clean/raw/'\n",
    "\n",
    "cont=[]\n",
    "contfull=[]\n",
    "for con in os.listdir(country_path):\n",
    "    if con !='.DS_Store':\n",
    "        cont.append(con[:2])\n",
    "        name=df[\"official_name_en\"].loc[df[\"ISO3166-1-Alpha-2\"].str.contains(con[:2].upper())==True]\n",
    "        contfull.extend(name)\n",
    "\n",
    "populs=[]\n",
    "temp=pd.read_csv(\"country.csv\")\n",
    "for i in range(len(cont)):\n",
    "    populs.extend(temp[\"Population\"].loc[temp[\"Country Name\"]==contfull[i]])\n",
    "        \n",
    "ppps=[]\n",
    "temp=pd.read_csv(\"ppp.csv\")\n",
    "for i in range(len(cont)):\n",
    "    ppps.extend(temp[\"PPP\"].loc[temp[\"Country Name\"]==contfull[i]].astype(float))\n",
    "    \n",
    "popul=dict(zip(cont,populs))\n",
    "ppp=dict(zip(cont,ppps))\n",
    "iso3=[]\n",
    "sales=[]\n",
    "sales_cs=[]\n",
    "sales_pubg=[]\n",
    "sales_l4d=[]\n",
    "sales_cod=[]\n",
    "sales_fm=[]\n",
    "sales_gta=[]\n",
    "prices_cs=[]\n",
    "prices_pubg=[]\n",
    "prices_l4d=[]\n",
    "prices_cod=[]\n",
    "prices_fm=[]\n",
    "prices_gta=[]\n",
    "for country in cont:\n",
    "    iso3.extend(df['ISO3166-1-Alpha-3'].loc[df[\"ISO3166-1-Alpha-2\"].str.lower()==country])\n",
    "    sales_year_cs=0\n",
    "    sales_year_pubg=0\n",
    "    sales_year_l4d=0\n",
    "    sales_year_cod=0\n",
    "    sales_year_fm=0\n",
    "    sales_year_gta=0\n",
    "    frame=pd.read_csv(\"country_clean/country_appid/\"+country+\".csv\")\n",
    "    sales_year_cs=frame[\"sales_q\"].loc[frame[\"name\"]==\"Counter-Strike: Global Offensive\"]\n",
    "    sales_year_pubg=frame[\"sales_q\"].loc[frame[\"name\"]==\"PLAYERUNKNOWN'S BATTLEGROUNDS\"]\n",
    "    sales_year_l4d=frame[\"sales_q\"].loc[frame[\"name\"]==\"Left 4 Dead 2\"]\n",
    "    sales_year_cod=frame[\"sales_q\"].loc[frame[\"name\"]==\"Call of Duty: Modern Warfare 2\"]\n",
    "    sales_year_fm=frame[\"sales_q\"].loc[frame[\"name\"]==\"Football Manager 2016\"]\n",
    "    sales_year_gta=frame[\"sales_q\"].loc[frame[\"name\"]==\"Grand Theft Auto V\"]\n",
    "    prices_cs.extend(frame[\"local_price_usd\"].loc[frame[\"name\"]==\"Counter-Strike: Global Offensive\"]/ppp[country])\n",
    "    prices_pubg.extend(frame[\"local_price_usd\"].loc[frame[\"name\"]==\"PLAYERUNKNOWN'S BATTLEGROUNDS\"]/ppp[country])\n",
    "    prices_l4d.extend(frame[\"local_price_usd\"].loc[frame[\"name\"]==\"Left 4 Dead 2\"]/ppp[country])\n",
    "    prices_cod.extend(frame[\"local_price_usd\"].loc[frame[\"name\"]==\"Call of Duty: Modern Warfare 2\"]/ppp[country])\n",
    "    prices_fm.extend(frame[\"local_price_usd\"].loc[frame[\"name\"]==\"Football Manager 2016\"]/ppp[country])\n",
    "    prices_gta.extend(frame[\"local_price_usd\"].loc[frame[\"name\"]==\"Grand Theft Auto V\"]/ppp[country])\n",
    "    sales_cs.extend(sales_year_cs/popul[country])\n",
    "    sales_pubg.extend(sales_year_pubg/popul[country])\n",
    "    sales_l4d.extend(sales_year_l4d/popul[country])\n",
    "    sales_cod.extend(sales_year_cod/popul[country])\n",
    "    sales_fm.extend(sales_year_fm/popul[country])\n",
    "    sales_gta.extend(sales_year_gta/popul[country])\n",
    "\n",
    "import numpy as np\n",
    "import json\n",
    "import requests\n",
    "import matplotlib.colors as colors\n",
    "from numpy import random\n",
    "from multiprocessing import Pool\n",
    "import time\n",
    "import matplotlib.pyplot as plt\n",
    "import geopandas as gpd\n",
    "import matplotlib \n",
    "from mpl_toolkits.axes_grid1 import AxesGrid\n",
    "\n",
    "class MidpointNormalize(colors.Normalize):\n",
    "\tdef __init__(self, vmin=None, vmax=None, midpoint=None, clip=False):\n",
    "\t\tself.midpoint = midpoint\n",
    "\t\tcolors.Normalize.__init__(self, vmin, vmax, clip)\n",
    "\n",
    "\tdef __call__(self, value, clip=None):\n",
    "\t\t# I'm ignoring masked values and all kinds of edge cases to make a\n",
    "\t\t# simple example...\n",
    "\t\tx, y = [self.vmin, self.midpoint, self.vmax], [0, 0.5, 1]\n",
    "\t\treturn np.ma.masked_array(np.interp(value, x, y), np.isnan(value))\n",
    "graph_cs=pd.DataFrame({\"iso_a3\":iso3,\"country\":cont,\"prices_pubg\":prices_pubg})\n",
    "world = gpd.read_file(gpd.datasets.get_path('naturalearth_lowres'))\n",
    "world.join(graph_cs.set_index('iso_a3'), on='iso_a3')\n",
    "world = pd.merge(world, graph_cs, left_on='iso_a3', right_on='iso_a3',how='outer')\n",
    "ax = world.plot(color=\"dimgrey\")\n",
    "world.plot(ax=ax, column=\"prices_pubg\", cmap='OrRd',scheme=None,alpha =0.7,legend = True)\n",
    "ax.set_title(\"PPP Adjusted Prices of Player Unknown's Battleground\")\n",
    "plt.savefig(\"C:/Program Files (x86)/Python36-32/output/prices_pubg_ppp.pdf\")\n",
    "plt.show()"
   ]
  },
  {
   "cell_type": "code",
   "execution_count": 15,
   "metadata": {},
   "outputs": [
    {
     "name": "stdout",
     "output_type": "stream",
     "text": [
      "C:\\ProgramData\n"
     ]
    }
   ],
   "source": [
    "cd ../"
   ]
  },
  {
   "cell_type": "code",
   "execution_count": 16,
   "metadata": {},
   "outputs": [
    {
     "name": "stdout",
     "output_type": "stream",
     "text": [
      "C:\\\n"
     ]
    }
   ],
   "source": [
    "cd ../"
   ]
  },
  {
   "cell_type": "code",
   "execution_count": 17,
   "metadata": {},
   "outputs": [
    {
     "name": "stdout",
     "output_type": "stream",
     "text": [
      "C:\\Program Files (x86)\\Python36-32\n"
     ]
    }
   ],
   "source": [
    "cd Program Files (x86)/Python36-32"
   ]
  },
  {
   "cell_type": "code",
   "execution_count": 1,
   "metadata": {},
   "outputs": [
    {
     "data": {
      "text/plain": [
       "'C:\\\\Users\\\\SUUSER'"
      ]
     },
     "execution_count": 1,
     "metadata": {},
     "output_type": "execute_result"
    }
   ],
   "source": [
    "pwd"
   ]
  },
  {
   "cell_type": "code",
   "execution_count": 2,
   "metadata": {},
   "outputs": [
    {
     "ename": "SyntaxError",
     "evalue": "invalid syntax (<ipython-input-2-9272e739f812>, line 1)",
     "output_type": "error",
     "traceback": [
      "\u001b[1;36m  File \u001b[1;32m\"<ipython-input-2-9272e739f812>\"\u001b[1;36m, line \u001b[1;32m1\u001b[0m\n\u001b[1;33m    cd../../Program Files (x86)\u001b[0m\n\u001b[1;37m       ^\u001b[0m\n\u001b[1;31mSyntaxError\u001b[0m\u001b[1;31m:\u001b[0m invalid syntax\n"
     ]
    }
   ],
   "source": [
    "cd../../Program Files (x86)"
   ]
  },
  {
   "cell_type": "code",
   "execution_count": 3,
   "metadata": {},
   "outputs": [
    {
     "ename": "SyntaxError",
     "evalue": "invalid syntax (<ipython-input-3-0b19649d885c>, line 1)",
     "output_type": "error",
     "traceback": [
      "\u001b[1;36m  File \u001b[1;32m\"<ipython-input-3-0b19649d885c>\"\u001b[1;36m, line \u001b[1;32m1\u001b[0m\n\u001b[1;33m    cd../../\u001b[0m\n\u001b[1;37m       ^\u001b[0m\n\u001b[1;31mSyntaxError\u001b[0m\u001b[1;31m:\u001b[0m invalid syntax\n"
     ]
    }
   ],
   "source": [
    "cd../../\n"
   ]
  },
  {
   "cell_type": "code",
   "execution_count": 4,
   "metadata": {},
   "outputs": [
    {
     "name": "stdout",
     "output_type": "stream",
     "text": [
      "C:\\Program Files (x86)\n"
     ]
    }
   ],
   "source": [
    "cd ../../Program Files (x86)"
   ]
  },
  {
   "cell_type": "code",
   "execution_count": 5,
   "metadata": {},
   "outputs": [
    {
     "name": "stdout",
     "output_type": "stream",
     "text": [
      "C:\\Program Files (x86)\\Python36-32\n"
     ]
    }
   ],
   "source": [
    "cd Python36-32"
   ]
  },
  {
   "cell_type": "code",
   "execution_count": 6,
   "metadata": {},
   "outputs": [
    {
     "name": "stderr",
     "output_type": "stream",
     "text": [
      "C:\\ProgramData\\Anaconda3\\lib\\site-packages\\matplotlib\\colors.py:489: RuntimeWarning: invalid value encountered in less\n",
      "  np.copyto(xa, -1, where=xa < 0.0)\n"
     ]
    },
    {
     "data": {
      "image/png": "[encoded data removed]",
      "text/plain": [
       "<matplotlib.figure.Figure at 0x99560d0>"
      ]
     },
     "metadata": {},
     "output_type": "display_data"
    },
    {
     "data": {
      "text/plain": [
       "<matplotlib.figure.Figure at 0xd241c70>"
      ]
     },
     "metadata": {},
     "output_type": "display_data"
    }
   ],
   "source": [
    "%matplotlib inline\n",
    "import pandas as pd\n",
    "import os\n",
    "\n",
    "path=\"C:\\\\Program Files (x86)\\Python36-32\"\n",
    "df=pd.read_csv(path+'/country_iso_code/STEAM_country.csv')\n",
    "country_path=path+'/country_clean/raw/'\n",
    "\n",
    "cont=[]\n",
    "contfull=[]\n",
    "for con in os.listdir(country_path):\n",
    "    if con !='.DS_Store':\n",
    "        cont.append(con[:2])\n",
    "        name=df[\"official_name_en\"].loc[df[\"ISO3166-1-Alpha-2\"].str.contains(con[:2].upper())==True]\n",
    "        contfull.extend(name)\n",
    "\n",
    "populs=[]\n",
    "temp=pd.read_csv(path+\"/country.csv\")\n",
    "for i in range(len(cont)):\n",
    "    populs.extend(temp[\"Population\"].loc[temp[\"Country Name\"]==contfull[i]])\n",
    "        \n",
    "ppps=[]\n",
    "temp=pd.read_csv(path+\"/ppp.csv\")\n",
    "for i in range(len(cont)):\n",
    "    ppps.extend(temp[\"PPP\"].loc[temp[\"Country Name\"]==contfull[i]].astype(float))\n",
    "    \n",
    "popul=dict(zip(cont,populs))\n",
    "ppp=dict(zip(cont,ppps))\n",
    "iso3=[]\n",
    "sales=[]\n",
    "sales_cs=[]\n",
    "sales_pubg=[]\n",
    "sales_l4d=[]\n",
    "sales_cod=[]\n",
    "sales_fm=[]\n",
    "sales_gta=[]\n",
    "prices_cs=[]\n",
    "prices_pubg=[]\n",
    "prices_l4d=[]\n",
    "prices_cod=[]\n",
    "prices_fm=[]\n",
    "prices_gta=[]\n",
    "for country in cont:\n",
    "    iso3.extend(df['ISO3166-1-Alpha-3'].loc[df[\"ISO3166-1-Alpha-2\"].str.lower()==country])\n",
    "    sales_year_cs=0\n",
    "    sales_year_pubg=0\n",
    "    sales_year_l4d=0\n",
    "    sales_year_cod=0\n",
    "    sales_year_fm=0\n",
    "    sales_year_gta=0\n",
    "    frame=pd.read_csv(path+\"/country_clean/country_appid/\"+country+\".csv\")\n",
    "    sales_year_cs=frame[\"sales_q\"].loc[frame[\"name\"]==\"Counter-Strike: Global Offensive\"]\n",
    "    sales_year_pubg=frame[\"sales_q\"].loc[frame[\"name\"]==\"PLAYERUNKNOWN'S BATTLEGROUNDS\"]\n",
    "    sales_year_l4d=frame[\"sales_q\"].loc[frame[\"name\"]==\"Left 4 Dead 2\"]\n",
    "    sales_year_cod=frame[\"sales_q\"].loc[frame[\"name\"]==\"Call of Duty: Modern Warfare 2\"]\n",
    "    sales_year_fm=frame[\"sales_q\"].loc[frame[\"name\"]==\"Football Manager 2016\"]\n",
    "    sales_year_gta=frame[\"sales_q\"].loc[frame[\"name\"]==\"Grand Theft Auto V\"]\n",
    "    prices_cs.extend(frame[\"local_price_usd\"].loc[frame[\"name\"]==\"Counter-Strike: Global Offensive\"]/ppp[country])\n",
    "    prices_pubg.extend(frame[\"local_price_usd\"].loc[frame[\"name\"]==\"PLAYERUNKNOWN'S BATTLEGROUNDS\"]/ppp[country])\n",
    "    prices_l4d.extend(frame[\"local_price_usd\"].loc[frame[\"name\"]==\"Left 4 Dead 2\"]/ppp[country])\n",
    "    prices_cod.extend(frame[\"local_price_usd\"].loc[frame[\"name\"]==\"Call of Duty: Modern Warfare 2\"]/ppp[country])\n",
    "    prices_fm.extend(frame[\"local_price_usd\"].loc[frame[\"name\"]==\"Football Manager 2016\"]/ppp[country])\n",
    "    prices_gta.extend(frame[\"local_price_usd\"].loc[frame[\"name\"]==\"Grand Theft Auto V\"]/ppp[country])\n",
    "    sales_cs.extend(sales_year_cs/popul[country])\n",
    "    sales_pubg.extend(sales_year_pubg/popul[country])\n",
    "    sales_l4d.extend(sales_year_l4d/popul[country])\n",
    "    sales_cod.extend(sales_year_cod/popul[country])\n",
    "    sales_fm.extend(sales_year_fm/popul[country])\n",
    "    sales_gta.extend(sales_year_gta/popul[country])\n",
    "\n",
    "import numpy as np\n",
    "import json\n",
    "import requests\n",
    "import matplotlib.colors as colors\n",
    "from numpy import random\n",
    "from multiprocessing import Pool\n",
    "import time\n",
    "import matplotlib.pyplot as plt\n",
    "import geopandas as gpd\n",
    "import matplotlib \n",
    "from mpl_toolkits.axes_grid1 import AxesGrid\n",
    "\n",
    "class MidpointNormalize(colors.Normalize):\n",
    "\tdef __init__(self, vmin=None, vmax=None, midpoint=None, clip=False):\n",
    "\t\tself.midpoint = midpoint\n",
    "\t\tcolors.Normalize.__init__(self, vmin, vmax, clip)\n",
    "\n",
    "\tdef __call__(self, value, clip=None):\n",
    "\t\t# I'm ignoring masked values and all kinds of edge cases to make a\n",
    "\t\t# simple example...\n",
    "\t\tx, y = [self.vmin, self.midpoint, self.vmax], [0, 0.5, 1]\n",
    "\t\treturn np.ma.masked_array(np.interp(value, x, y), np.isnan(value))\n",
    "graph_cs=pd.DataFrame({\"iso_a3\":iso3,\"country\":cont,\"prices_pubg\":prices_pubg})\n",
    "world = gpd.read_file(gpd.datasets.get_path('naturalearth_lowres'))\n",
    "world.join(graph_cs.set_index('iso_a3'), on='iso_a3')\n",
    "world = pd.merge(world, graph_cs, left_on='iso_a3', right_on='iso_a3',how='outer')\n",
    "ax = world.plot(color=\"dimgrey\")\n",
    "world.plot(ax=ax, column=\"prices_pubg\", cmap='OrRd',scheme=None,alpha =0.7,legend = True)\n",
    "ax.set_title(\"PPP Adjusted Prices of Player Unknown's Battleground\")\n",
    "plt.show()\n",
    "plt.savefig('firstplot.png')"
   ]
  },
  {
   "cell_type": "code",
   "execution_count": null,
   "metadata": {},
   "outputs": [],
   "source": []
  }
 ],
 "metadata": {
  "kernelspec": {
   "display_name": "Python 3",
   "language": "python",
   "name": "python3"
  },
  "language_info": {
   "codemirror_mode": {
    "name": "ipython",
    "version": 3
   },
   "file_extension": ".py",
   "mimetype": "text/x-python",
   "name": "python",
   "nbconvert_exporter": "python",
   "pygments_lexer": "ipython3",
   "version": "3.6.4"
  }
 },
 "nbformat": 4,
 "nbformat_minor": 2
}
